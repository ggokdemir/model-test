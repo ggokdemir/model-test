{
 "cells": [
  {
   "cell_type": "code",
   "execution_count": 1,
   "metadata": {},
   "outputs": [
    {
     "name": "stderr",
     "output_type": "stream",
     "text": [
      "Using TensorFlow backend.\n"
     ]
    }
   ],
   "source": [
    "import os\n",
    "import gzip\n",
    "import struct\n",
    "import numpy as np\n",
    "import random\n",
    "import matplotlib.pyplot as plt\n",
    "import keras\n",
    "import cv2\n",
    "import math"
   ]
  },
  {
   "cell_type": "code",
   "execution_count": 2,
   "metadata": {},
   "outputs": [],
   "source": [
    "%matplotlib inline \n",
    "\n",
    "image_dir = 'C:/Users/Kan/Desktop/CharRecog/gzip'\n",
    "labels = '0123456789ABCDEFGHIJKLMNOPQRSTUVWXYZabcdefghijklmnopqrstuvwxyz'\n",
    "categories = len(labels)\n",
    "\n",
    "model_path = 'C:/Users/Kan/Desktop/CharRecog/emnist-cnn-model-epoch20.h5'"
   ]
  },
  {
   "cell_type": "code",
   "execution_count": 3,
   "metadata": {},
   "outputs": [
    {
     "name": "stdout",
     "output_type": "stream",
     "text": [
      "Processing data from C:/Users/Kan/Desktop/CharRecog/gzip\\emnist-byclass-test-images-idx3-ubyte.gz.\n",
      "Shape: (116323, 28, 28)\n",
      "Processing data from C:/Users/Kan/Desktop/CharRecog/gzip\\emnist-byclass-test-labels-idx1-ubyte.gz.\n",
      "Shape: (116323,)\n"
     ]
    }
   ],
   "source": [
    "def read_idx(filename):\n",
    "    print('Processing data from %s.' % filename)\n",
    "    with gzip.open(filename, 'rb') as f:\n",
    "        z, dtype, dim = struct.unpack('>HBB', f.read(4))\n",
    "        shape = tuple(struct.unpack('>I', f.read(4))[0] for d in range(dim))\n",
    "        print('Shape:', shape)\n",
    "        return np.frombuffer(f.read(), dtype=np.uint8).reshape(shape)\n",
    "\n",
    "def load_emnist():\n",
    "    test_images = os.path.join(image_dir, 'emnist-byclass-test-images-idx3-ubyte.gz')\n",
    "    test_labels = os.path.join(image_dir, 'emnist-byclass-test-labels-idx1-ubyte.gz')\n",
    "\n",
    "    test_X = read_idx(test_images)\n",
    "    test_y = read_idx(test_labels)\n",
    "    \n",
    "    return (test_X, test_y)\n",
    "\n",
    "raw_test_X, raw_test_y = load_emnist()\n"
   ]
  },
  {
   "cell_type": "code",
   "execution_count": 4,
   "metadata": {},
   "outputs": [
    {
     "data": {
      "image/png": "[encoded data removed]",
      "text/plain": [
       "<Figure size 432x288 with 1 Axes>"
      ]
     },
     "metadata": {
      "needs_background": "light"
     },
     "output_type": "display_data"
    }
   ],
   "source": [
    "i = random.randint(0, raw_test_X.shape[0])\n",
    "fig, ax = plt.subplots()\n",
    "ax.clear()\n",
    "ax.imshow(raw_test_X[i].T, cmap='gray')\n",
    "\n",
    "title = 'Label = %d = %s' % (raw_test_y[i], labels[raw_test_y[i]])\n",
    "ax.set_title(title, fontsize=25)\n",
    "\n",
    "plt.show()"
   ]
  },
  {
   "cell_type": "code",
   "execution_count": 5,
   "metadata": {},
   "outputs": [],
   "source": [
    "test_X = raw_test_X.astype('float32')\n",
    "\n",
    "test_X /= 255\n",
    "\n",
    "test_X = test_X.reshape(test_X.shape[0], 28, 28, 1)"
   ]
  },
  {
   "cell_type": "code",
   "execution_count": 6,
   "metadata": {},
   "outputs": [],
   "source": [
    "test_y = keras.utils.np_utils.to_categorical(raw_test_y)"
   ]
  },
  {
   "cell_type": "code",
   "execution_count": 7,
   "metadata": {},
   "outputs": [
    {
     "name": "stdout",
     "output_type": "stream",
     "text": [
      "WARNING:tensorflow:From C:\\Users\\Kan\\Anaconda3\\lib\\site-packages\\tensorflow\\python\\framework\\op_def_library.py:263: colocate_with (from tensorflow.python.framework.ops) is deprecated and will be removed in a future version.\n",
      "Instructions for updating:\n",
      "Colocations handled automatically by placer.\n",
      "WARNING:tensorflow:From C:\\Users\\Kan\\Anaconda3\\lib\\site-packages\\keras\\backend\\tensorflow_backend.py:3445: calling dropout (from tensorflow.python.ops.nn_ops) with keep_prob is deprecated and will be removed in a future version.\n",
      "Instructions for updating:\n",
      "Please use `rate` instead of `keep_prob`. Rate should be set to `rate = 1 - keep_prob`.\n",
      "_________________________________________________________________\n",
      "Layer (type)                 Output Shape              Param #   \n",
      "=================================================================\n",
      "conv2d_1 (Conv2D)            (None, 12, 12, 32)        832       \n",
      "_________________________________________________________________\n",
      "conv2d_2 (Conv2D)            (None, 10, 10, 64)        18496     \n",
      "_________________________________________________________________\n",
      "max_pooling2d_1 (MaxPooling2 (None, 5, 5, 64)          0         \n",
      "_________________________________________________________________\n",
      "dropout_1 (Dropout)          (None, 5, 5, 64)          0         \n",
      "_________________________________________________________________\n",
      "flatten_1 (Flatten)          (None, 1600)              0         \n",
      "_________________________________________________________________\n",
      "dense_1 (Dense)              (None, 128)               204928    \n",
      "_________________________________________________________________\n",
      "dropout_2 (Dropout)          (None, 128)               0         \n",
      "_________________________________________________________________\n",
      "dense_2 (Dense)              (None, 62)                7998      \n",
      "=================================================================\n",
      "Total params: 232,254\n",
      "Trainable params: 232,254\n",
      "Non-trainable params: 0\n",
      "_________________________________________________________________\n"
     ]
    }
   ],
   "source": [
    "model = keras.models.Sequential()\n",
    "model.add(keras.layers.Conv2D(32,\n",
    "                kernel_size=(5, 5),\n",
    "                strides=(2, 2),\n",
    "                input_shape=(28, 28, 1),\n",
    "                activation='relu'))\n",
    "model.add(keras.layers.Conv2D(64,\n",
    "                kernel_size=(3, 3),\n",
    "                activation='relu'))\n",
    "model.add(keras.layers.MaxPooling2D(pool_size=(2, 2)))\n",
    "model.add(keras.layers.Dropout(0.25))\n",
    "model.add(keras.layers.Flatten())\n",
    "model.add(keras.layers.Dense(128, activation='relu'))\n",
    "model.add(keras.layers.Dropout(0.25))\n",
    "model.add(keras.layers.Dense(categories, activation='softmax'))\n",
    "model.summary()"
   ]
  },
  {
   "cell_type": "code",
   "execution_count": 8,
   "metadata": {},
   "outputs": [],
   "source": [
    "model.compile(loss='categorical_crossentropy', optimizer='adam', metrics=['accuracy'])"
   ]
  },
  {
   "cell_type": "code",
   "execution_count": 9,
   "metadata": {},
   "outputs": [
    {
     "name": "stdout",
     "output_type": "stream",
     "text": [
      "WARNING:tensorflow:From C:\\Users\\Kan\\Anaconda3\\lib\\site-packages\\tensorflow\\python\\ops\\math_ops.py:3066: to_int32 (from tensorflow.python.ops.math_ops) is deprecated and will be removed in a future version.\n",
      "Instructions for updating:\n",
      "Use tf.cast instead.\n",
      "[<keras.layers.convolutional.Conv2D object at 0x00000294EFF98320>, <keras.layers.convolutional.Conv2D object at 0x00000294EFF98BA8>, <keras.layers.pooling.MaxPooling2D object at 0x00000294EFFA4668>, <keras.layers.core.Dropout object at 0x00000294EFF989E8>, <keras.layers.core.Flatten object at 0x00000294EFFC6D30>, <keras.layers.core.Dense object at 0x00000294EFFC64A8>, <keras.layers.core.Dropout object at 0x00000294EFFFE7F0>, <keras.layers.core.Dense object at 0x00000294EFFA4518>]\n",
      "116323/116323 [==============================] - 15s 129us/step\n",
      "Loss: 34.83%, Accuracy: 86.93%\n"
     ]
    }
   ],
   "source": [
    "model = keras.models.load_model(model_path)\n",
    "print(model.layers)\n",
    "\n",
    "#evaluate the model by using test data\n",
    "results = model.evaluate(test_X, test_y)\n",
    "print('Loss: %.2f%%, Accuracy: %.2f%%' % (results[0]*100, results[1]*100))"
   ]
  },
  {
   "cell_type": "code",
   "execution_count": 10,
   "metadata": {},
   "outputs": [],
   "source": [
    "image='/Users/Kan/Desktop/CharRecog/p.png'\n",
    "img = cv2.imread(image, cv2.IMREAD_GRAYSCALE)"
   ]
  },
  {
   "cell_type": "code",
   "execution_count": 11,
   "metadata": {},
   "outputs": [
    {
     "name": "stdout",
     "output_type": "stream",
     "text": [
      "100 100\n"
     ]
    }
   ],
   "source": [
    "h = np.shape(img)[1]\n",
    "w = np.shape(img)[1]\n",
    "print(h,w)\n",
    "inputs = np.float32([[h,w],[0,w],[h,0],[0,0]])\n",
    "outputs = np.float32([[28,28],[0,28],[28,0],[0,0]])\n",
    "M = cv2.getPerspectiveTransform(inputs, outputs)\n",
    "image_28 = cv2.warpPerspective(img, M, (28,28))\n",
    "\n",
    "image_inverted =  cv2.bitwise_not(image_28)\n"
   ]
  },
  {
   "cell_type": "code",
   "execution_count": 12,
   "metadata": {},
   "outputs": [
    {
     "data": {
      "image/png": "[encoded data removed]",
      "text/plain": [
       "<Figure size 216x216 with 1 Axes>"
      ]
     },
     "metadata": {
      "needs_background": "light"
     },
     "output_type": "display_data"
    }
   ],
   "source": [
    "\n",
    "fig = plt.figure(figsize=(3,3))\n",
    "plt.imshow(image_inverted, cmap='gray')\n",
    "plt.show()"
   ]
  },
  {
   "cell_type": "code",
   "execution_count": 13,
   "metadata": {},
   "outputs": [
    {
     "name": "stdout",
     "output_type": "stream",
     "text": [
      "\r",
      "1/1 [==============================] - 0s 101ms/step\n"
     ]
    },
    {
     "data": {
      "image/png": "[encoded data removed]",
      "text/plain": [
       "<Figure size 432x288 with 1 Axes>"
      ]
     },
     "metadata": {
      "needs_background": "light"
     },
     "output_type": "display_data"
    }
   ],
   "source": [
    "image_inverted_4d = image_inverted.copy()\n",
    "image_inverted_4d = image_inverted_4d.reshape(-1,28, 28, 1)\n",
    "\n",
    "result = np.round(model.predict(image_inverted_4d, verbose=1), decimals=2)\n",
    "resultLabel = np.argmax(result, axis=1)\n",
    "\n",
    "plt.imshow(image_inverted, cmap='gray')\n",
    "plt.title('Prediction {}'.format(labels[resultLabel[0]]))\n",
    "plt.show()"
   ]
  },
  {
   "cell_type": "code",
   "execution_count": 21,
   "metadata": {},
   "outputs": [
    {
     "name": "stdout",
     "output_type": "stream",
     "text": [
      "\r",
      "5/5 [==============================] - 0s 2ms/step\n"
     ]
    },
    {
     "data": {
      "image/png": "[encoded data removed]",
      "text/plain": [
       "<Figure size 1080x576 with 5 Axes>"
      ]
     },
     "metadata": {
      "needs_background": "light"
     },
     "output_type": "display_data"
    }
   ],
   "source": [
    "#select a random subset from test data\n",
    "random.seed(112358)\n",
    "sample = np.arange(raw_test_X.shape[0])\n",
    "np.random.shuffle(sample)\n",
    "sample = sample[0:5]\n",
    "\n",
    "results = np.round(model.predict(test_X[sample], verbose=1), decimals=2)\n",
    "resultLabels = np.argmax(results, axis=1)\n",
    "\n",
    "fig=plt.figure(figsize=(15, 8))\n",
    "for i in range(5):\n",
    "    fig.add_subplot(2, 5, i+1, aspect='equal')\n",
    "    plt.imshow(raw_test_X[sample[i]].T, cmap='gray')\n",
    "    plt.title('Class {}'.format(labels[resultLabels[i]]))\n",
    "    plt.xlabel(\"Img {}\".format(sample[i]))\n"
   ]
  },
  {
   "cell_type": "code",
   "execution_count": null,
   "metadata": {},
   "outputs": [],
   "source": []
  }
 ],
 "metadata": {
  "kernelspec": {
   "display_name": "Python 3",
   "language": "python",
   "name": "python3"
  },
  "language_info": {
   "codemirror_mode": {
    "name": "ipython",
    "version": 3
   },
   "file_extension": ".py",
   "mimetype": "text/x-python",
   "name": "python",
   "nbconvert_exporter": "python",
   "pygments_lexer": "ipython3",
   "version": "3.7.1"
  }
 },
 "nbformat": 4,
 "nbformat_minor": 2
}
